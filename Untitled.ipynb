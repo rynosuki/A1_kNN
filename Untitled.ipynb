{
 "cells": [
  {
   "cell_type": "code",
   "execution_count": 48,
   "id": "03985f5f-da93-41c3-b201-d0938df708b6",
   "metadata": {},
   "outputs": [
    {
     "name": "stdout",
     "output_type": "stream",
     "text": [
      "2000 1000 667 500 10000\n",
      "[17.523416757583618, 24.2357976436615, 36.97221493721008, 73.66259551048279, 2122.1656036376953]\n"
     ]
    },
    {
     "data": {
      "image/png": "[encoded data removed]",
      "text/plain": [
       "<Figure size 432x288 with 1 Axes>"
      ]
     },
     "metadata": {
      "needs_background": "light"
     },
     "output_type": "display_data"
    }
   ],
   "source": [
    "from keras.datasets import mnist\n",
    "import numpy as np\n",
    "from sklearn.metrics import accuracy_score\n",
    "from time import time\n",
    "import matplotlib.pyplot as plt\n",
    "\n",
    "def main():\n",
    "    (train_X, train_y), (test_X, test_y) = mnist.load_data()\n",
    "    train_shaped = train_X.reshape(60000,784)\n",
    "    train_shaped = np.array_split(train_shaped,6)[0]\n",
    "    train_y_shaped = np.array_split(train_y,6)[0]\n",
    "    test_shaped = test_X.reshape(10000,784)\n",
    "    test_shaped = np.array_split(test_shaped,5)[0]\n",
    "    test_y_shaped = np.array_split(test_y,5)[0]\n",
    "  \n",
    "    test_shaped_2 = test_X.reshape(10000,784)\n",
    "    test_shaped_2 = np.array_split(test_shaped_2,10)[0]\n",
    "    test_y_shaped_2 = np.array_split(test_y,10)[0]\n",
    "    \n",
    "    test_shaped_3 = test_X.reshape(10000,784)\n",
    "    test_shaped_3 = np.array_split(test_shaped_3,15)[0]\n",
    "    test_y_shaped_3 = np.array_split(test_y,15)[0]\n",
    "    \n",
    "    test_shaped_4 = test_X.reshape(10000,784)\n",
    "    test_shaped_4 = np.array_split(test_shaped_4,20)[0]\n",
    "    test_y_shaped_4 = np.array_split(test_y,20)[0]\n",
    "    \n",
    "    train_shaped_5 = train_X.reshape(60000,784)\n",
    "    test_shaped_5 = test_X.reshape(10000,784)\n",
    "    \n",
    "    print(len(test_shaped), len(test_shaped_2), len(test_shaped_3), len(test_shaped_4), len(test_shaped_5))\n",
    "    timespent = []\n",
    "    vals = [5000000, 6666667, 10000000, 20000000, 6000000000]\n",
    "    cur = time()\n",
    "    pred_y = predict(train_shaped, train_y_shaped, test_shaped_4, 3)\n",
    "    timespent.append(time()-cur)\n",
    "    cur = time()\n",
    "    pred_y = predict(train_shaped, train_y_shaped, test_shaped_3, 3)\n",
    "    timespent.append(time()-cur)\n",
    "    cur = time()\n",
    "    pred_y = predict(train_shaped, train_y_shaped, test_shaped_2, 3)\n",
    "    timespent.append(time()-cur)\n",
    "    cur = time()\n",
    "    pred_y = predict(train_shaped, train_y_shaped, test_shaped, 3)\n",
    "    timespent.append(time()-cur)\n",
    "    cur = time()\n",
    "    pred_y = predict(train_shaped_5, train_y, test_shaped_5, 3)\n",
    "    timespent.append(time()-cur)\n",
    "    \n",
    "    print(timespent)\n",
    "    plt.plot(timespent, vals)\n",
    "    plt.show()\n",
    "    \n",
    "    # print(pred_y, \"\\n\\n\" ,test_y_shaped)\n",
    "    # print(accuracy_score(pred_y, test_y_shaped))\n",
    "    \n",
    "def eucledian(values, point):\n",
    "    return np.linalg.norm(np.array(point) - values[:,:], axis=1)\n",
    "  \n",
    "def nearest_neighbors(distance_val, k):\n",
    "    return np.argpartition(distance_val, k)\n",
    "    \n",
    "def predict(values, results, pred, k):\n",
    "    val = []\n",
    "    for i in pred: # n\n",
    "        distances = eucledian(values, i)\n",
    "        nearest_neighbor = nearest_neighbors(distances, k) # n\n",
    "        result = []\n",
    "        for j in range(k): # k\n",
    "            result.append(results[nearest_neighbor[j]])\n",
    "        g = np.bincount(result)\n",
    "\n",
    "        val.append(np.argmax(g))\n",
    "    return np.array(val, dtype=np.uint32)\n",
    "\n",
    "if __name__ == \"__main__\":\n",
    "    main()"
   ]
  },
  {
   "cell_type": "code",
   "execution_count": null,
   "id": "05c73d26-9c95-43b9-9b2e-362e9d521233",
   "metadata": {},
   "outputs": [],
   "source": []
  }
 ],
 "metadata": {
  "kernelspec": {
   "display_name": "Python 3 (ipykernel)",
   "language": "python",
   "name": "python3"
  },
  "language_info": {
   "codemirror_mode": {
    "name": "ipython",
    "version": 3
   },
   "file_extension": ".py",
   "mimetype": "text/x-python",
   "name": "python",
   "nbconvert_exporter": "python",
   "pygments_lexer": "ipython3",
   "version": "3.10.4"
  }
 },
 "nbformat": 4,
 "nbformat_minor": 5
}
